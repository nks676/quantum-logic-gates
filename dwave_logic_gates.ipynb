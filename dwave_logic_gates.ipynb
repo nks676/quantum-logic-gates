{
 "cells": [
  {
   "cell_type": "code",
   "execution_count": null,
   "metadata": {},
   "outputs": [],
   "source": [
    "import dimod"
   ]
  },
  {
   "cell_type": "code",
   "execution_count": null,
   "metadata": {},
   "outputs": [],
   "source": [
    "def and_gate(a, b, p, v1):\n",
    "     linear = {a: -0.5, b: -0.5, p: 1.0, v1: 0}\n",
    "     quadratic = {(a, b): 0.5, (a, v1): 1, (b, p): -1, (p, v1): 1}\n",
    "     return dimod.BinaryQuadraticModel(linear, quadratic, dimod.SPIN)"
   ]
  },
  {
   "cell_type": "code",
   "execution_count": null,
   "metadata": {},
   "outputs": [],
   "source": [
    "and_bqm = and_gate('a', 'b', 'p', 'v1')\n",
    "sampler = dimod.ExactSolver()\n",
    "print(sampler.sample(and_bqm))"
   ]
  },
  {
   "cell_type": "code",
   "execution_count": null,
   "metadata": {},
   "outputs": [],
   "source": [
    "def half_adder(t1, t2, s, c, v1, v2):\n",
    "    linear = {c: 1, v1: 0, v2: 1, t1: 0, t2: 0, s: 1}\n",
    "    quadratic = {(c, t1): -1, (c, t2): -1, (c, s): 1, (v1, t1): -1, \n",
    "                 (v1, t2): 1, (v2, t1): 1, (v2, t2): 1, (v2, s): 1}\n",
    "    return dimod.BinaryQuadraticModel(linear, quadratic, dimod.SPIN)"
   ]
  },
  {
   "cell_type": "code",
   "execution_count": null,
   "metadata": {},
   "outputs": [],
   "source": [
    "half_adder_bqm = half_adder('t1', 't2', 's', 'c', 'v1', 'v2')\n",
    "sampler = dimod.ExactSolver()\n",
    "print(sampler.sample(half_adder_bqm))\n"
   ]
  },
  {
   "cell_type": "code",
   "execution_count": null,
   "metadata": {},
   "outputs": [],
   "source": [
    "def full_adder(t1, t2, t3, s, c, v1, v2, v3):\n",
    "    linear = {t1: 0, t2: 0, t3: 0, s: 0, c: 0, v1: 0, v2: 0, v3: 0}\n",
    "    quadratic = {(t3, v3): 1, (c, t1): -1, (c, t2): -1, (c, s): 1,      (c, v3): 1, (v1, t1): 1,(v1, t2): -1, (v1, s): 1, (v1, v3): -1, (v2, t1): -1, (v2, t2): 1,(v2, s): 1, (v2, v3): -1}\n",
    "    return dimod.BinaryQuadraticModel(linear, quadratic, dimod.SPIN"
   ]
  },
  {
   "cell_type": "code",
   "execution_count": null,
   "metadata": {},
   "outputs": [],
   "source": [
    "full_adder_bqm = half_adder('t1', 't2', 's', 'c', 'v1', 'v2', 'v3')\n",
    "sampler = dimod.ExactSolver()\n",
    "print(sampler.sample(full_adder_bqm))"
   ]
  }
 ],
 "metadata": {
  "interpreter": {
   "hash": "c936f47cdbca8f2fc96d2dc8a2ea915a504f61ba62e475f3b342437c277cd9bb"
  },
  "kernelspec": {
   "display_name": "Python 3.10.0 ('Ocean')",
   "language": "python",
   "name": "python3"
  },
  "language_info": {
   "name": "python",
   "version": "3.10.0"
  },
  "orig_nbformat": 4
 },
 "nbformat": 4,
 "nbformat_minor": 2
}
